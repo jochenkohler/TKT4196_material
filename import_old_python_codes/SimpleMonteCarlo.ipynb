{
 "cells": [
  {
   "cell_type": "markdown",
   "metadata": {},
   "source": [
    "# Simple Example\n",
    "\n"
   ]
  },
  {
   "cell_type": "markdown",
   "metadata": {},
   "source": [
    "Consider the cantilever beam loaded by two concentrated forces. The variables are uncorrelated and their properties are summarized as\n",
    "\n",
    "| $X$         | $\\mu_{X} $       | $\\sigma_{X} $ |\n",
    "|-------------|-----------------------|--------------------|\n",
    "| $F_{m} $ | 167 MPa               | 20 MPa             |\n",
    "| $W_{y} $ | 1.5e6 mm$^{3}$ | 0                  |\n",
    "| $l$         | 4 m                   | 0                  |\n",
    "| $P_{1} $ | 10 kN                 | 3 kN               |\n",
    "| $P_{2} $ | 10 kN                 | 3 kN               |\n",
    "\n",
    "Formulate the safety margin based on the cross-section capacity ultimate limit state, i.e. the beam fails if the moment capacity is exceeded. Write the second moment representation of $F_m$, $P_1$ and $P_2$ and calculate the reliability index.\n"
   ]
  },
  {
   "cell_type": "markdown",
   "metadata": {},
   "source": [
    "## Solution\n"
   ]
  },
  {
   "cell_type": "markdown",
   "metadata": {},
   "source": [
    "The linear safety margin is $M=W_{y}F_{m}-lP_{1}-2lP_{2}$. \n",
    "The second moment representation of the set of basic variables ${\\textbf{X}}=\\left({F}_{m} ,P_{1} ,P_{2} \\right)$ is:"
   ]
  },
  {
   "cell_type": "markdown",
   "metadata": {},
   "source": [
    "$E\\left[{\\textbf{X}}\\right]=\\left[\\begin{array}{c} {167~\\text{MPa}} \\\\ {10000~\\text{N}} \\\\ {10000~\\text{N}} \\end{array}\\right]; \\quad {\\textbf{C}}_{{\\textbf{X}}} =\\left[\\begin{array}{ccc} {20^{2}~\\left(\\text{MPa}\\right)^{2} } & {0} & {0} \\\\ {0} & {3000^{2}~\\text{N}^{2} } & {0} \\\\ {0} & {0} & 3000~{\\text{N}^{2} } \\end{array}\\right]$\n",
    "\n",
    "$a_{0} =0$ and the vector of the coefficients is:\n",
    "\n",
    "${\\textbf{a}}^{\\text{T}} =\\left[\\begin{array}{ccc} {W_{y} } & {-l} & {-2l} \\end{array}\\right]=\\left[\\begin{array}{ccc} {1.5\\cdot 10^{6}~\\text{mm}^{3} } & {-4000~\\text{mm}} & {-8000~\\text{mm}} \\end{array}\\right]$"
   ]
  },
  {
   "cell_type": "markdown",
   "metadata": {},
   "source": [
    "The reliability index is calculated by means of $\\beta_{C} =\\dfrac{E\\left[M\\right]}{D\\left[M\\right]} =\\dfrac{a_{0} +{\\textbf{a}}^{T} E\\left[{\\textbf{X}}\\right]}{\\sqrt{{\\textbf{a}}^{T} {\\textbf{C}}_{{\\textbf{X}}} {\\textbf{a}}} }$ yielding $\\beta_{C} =3.24$."
   ]
  },
  {
   "cell_type": "code",
   "execution_count": 26,
   "metadata": {},
   "outputs": [],
   "source": [
    "import numpy as np\n",
    "import scipy as sp\n",
    "import matplotlib.pyplot as plt\n",
    "import scipy.stats\n",
    "\n",
    "fontsizes=18\n",
    "plt.rcParams.update({'font.size': fontsizes})\n",
    "plt.rcParams.update({\"font.family\": \"serif\"})\n",
    "plt.rcParams.update({\"mathtext.fontset\" : \"cm\"})\n",
    "plt.rcParams.update({'font.serif': 'Times New Roman'})\n",
    "plt.close('all')\n"
   ]
  },
  {
   "cell_type": "code",
   "execution_count": 28,
   "metadata": {},
   "outputs": [],
   "source": [
    "#==============================================================================\n",
    "# INPUT\n",
    "#==============================================================================\n",
    "# Geometry \n",
    "l = 4e3                                 # [mm] \n",
    "W = 1.5e6                               # [mm^3] \n",
    "\n",
    "# Material resistance\n",
    "mu_Fm = 167                             # [N/mm^2]      \n",
    "sigma_Fm = 20                           # [N/mm^2]    \n",
    "\n",
    "# Loads\n",
    "mu_P1 = 10e3                            # [N]    \n",
    "sigma_P1 = 3e3                          # [N]  \n",
    "\n",
    "mu_P2 = 10e3                            # [N]    \n",
    "sigma_P2 = 3e3                          # [N]  \n",
    "\n",
    "#==============================================================================\n",
    "\n",
    "# Vectors\n",
    "E = np.array([mu_Fm, mu_P1, mu_P2])\n",
    "a = np.array([W, -l, -2*l])\n",
    "at = np.transpose(a)\n",
    "Cx = np.array([[sigma_Fm**2, 0, 0],\n",
    "                   [0, sigma_P1**2, 0],\n",
    "                   [0, 0, sigma_P2**2]])"
   ]
  },
  {
   "cell_type": "code",
   "execution_count": 29,
   "metadata": {
    "scrolled": true
   },
   "outputs": [
    {
     "name": "stdout",
     "output_type": "stream",
     "text": [
      "Reliability index beta for uncorrelated variables 3.24\n",
      "\n"
     ]
    }
   ],
   "source": [
    "#==============================================================================\n",
    "# BETA\n",
    "beta=np.dot(at,E)/np.sqrt(np.dot(np.dot(at,Cx),a))\n",
    "print(\"Reliability index beta for uncorrelated variables {b:.2f}\\n\".format(b=float(beta)))"
   ]
  },
  {
   "cell_type": "markdown",
   "metadata": {},
   "source": [
    "Now, we can assess the effect of correlation on the reliability index. Assume, for example, that $P_1$ and $P_2$ are correlated and the correlation coefficient is $\\rho=0.8$. "
   ]
  },
  {
   "cell_type": "code",
   "execution_count": 30,
   "metadata": {},
   "outputs": [
    {
     "name": "stdout",
     "output_type": "stream",
     "text": [
      "Reliability index beta for correlated variables 2.86\n",
      "\n"
     ]
    }
   ],
   "source": [
    "rho=0.8\n",
    "Cx08 = np.array([[sigma_Fm**2, 0, 0],\n",
    "                   [0, sigma_P1**2, sigma_P1*sigma_P2*rho],\n",
    "                   [0, sigma_P1*sigma_P2*rho, sigma_P2**2]])\n",
    "beta_08=np.dot(at,E)/np.sqrt(np.dot(np.dot(at,Cx08),a))\n",
    "print(\"Reliability index beta for correlated variables {b:.2f}\\n\".format(b=float(beta_08)))"
   ]
  },
  {
   "cell_type": "markdown",
   "metadata": {},
   "source": [
    "We can also perform a parameter study on how a correlation coefficient from -1 to +1 will effect the reliability index."
   ]
  },
  {
   "cell_type": "code",
   "execution_count": 6,
   "metadata": {},
   "outputs": [
    {
     "data": {
      "image/png": "[encoded data removed]",
      "text/plain": [
       "<Figure size 432x288 with 1 Axes>"
      ]
     },
     "metadata": {
      "needs_background": "light"
     },
     "output_type": "display_data"
    }
   ],
   "source": [
    "rhoV = np.arange(-1, 1+0.1, 0.1)\n",
    "rhoV[np.abs(rhoV.real) < 1e-15] = 0.0\n",
    "betalist = []\n",
    "for rho in rhoV:\n",
    "    Cx = np.array([[sigma_Fm**2, 0, 0],\n",
    "                   [0, sigma_P1**2, sigma_P1*sigma_P2*rho],\n",
    "                   [0, sigma_P1*sigma_P2*rho, sigma_P2**2]])\n",
    "    betalist.append(np.dot(at,E)/np.sqrt(np.dot(np.dot(at,Cx),a)))\n",
    "\n",
    "# Uncorrelated case\n",
    "beta_rho0 =  np.array(betalist)[np.nonzero(rhoV==0.)[0]]                # Reliability index\n",
    "\n",
    "\n",
    "\n",
    "# Plot\n",
    "fig, ax = plt.subplots()\n",
    "ax.plot(rhoV,betalist,'k')\n",
    "ax.plot(0,beta_rho0,'or')\n",
    "ax.text(0,beta_rho0,'({r:.0f},{b:.2f})\\n'.format(r=0,b=float(beta_rho0)))\n",
    "ax.set_xlabel(r'$\\rho$')\n",
    "ax.set_ylabel(r'$\\beta$')\n",
    "ax.set_xlim(-1,1)\n",
    "plt.tight_layout()\n",
    "plt.show()\n"
   ]
  },
  {
   "cell_type": "markdown",
   "metadata": {},
   "source": [
    "# Monte Carlo (getting started)\n"
   ]
  },
  {
   "cell_type": "markdown",
   "metadata": {},
   "source": [
    "For the considered example the exact result can be computed by using the safety margin as illustrated above. Alternatively, we can use Monte Carlo Simulation and see how close we come to the correct result. The following steps are performed for the case of uncorrelated variables:"
   ]
  },
  {
   "cell_type": "markdown",
   "metadata": {},
   "source": [
    "## 1. Generation of random realisations of the variables\n",
    "The random variables of the problem are $F_m$, $P_1$ and $P_2$, and we generate $n$ random realisations. In order to generate a random realization of an arbitrarily distributed variable, the so called transverse method can be used. Basis is taken in the cumulative distribution $F_{X}(x)$ of the random variable $X$. The cumulative distribution is defined as the probability that a realization $x$ is smaller or equal than $X$ , i.e. $F_{X} (x)=\\Pr (x\\le X)=y$, where $y$ is defined in the interval $\\left[0,1\\right]$.\n",
    "\n",
    "The idea of the transverse method is to generate a realization of a uniform distributed random variable $y$ and use the transposed cumulative distribution function of $X$ to generate a realization  $x$, i.e. $x=F_{X}^{-1}(y)$.\n"
   ]
  },
  {
   "cell_type": "code",
   "execution_count": 44,
   "metadata": {},
   "outputs": [],
   "source": [
    "n_sim = int(1E7)                 # Number of simulations\n",
    "\n",
    "f_m = sp.stats.norm.ppf(np.random.uniform(size=n_sim),loc=mu_Fm,scale=sigma_Fm)\n",
    "p1 = sp.stats.norm.ppf(np.random.uniform(size=n_sim),loc=mu_P1,scale=sigma_P1)\n",
    "p2 = sp.stats.norm.ppf(np.random.uniform(size=n_sim),loc=mu_P1,scale=sigma_P1)"
   ]
  },
  {
   "cell_type": "markdown",
   "metadata": {},
   "source": [
    "In many circumstances it is more efficient to generate random realisations directly sampled from that distribution. "
   ]
  },
  {
   "cell_type": "code",
   "execution_count": 45,
   "metadata": {},
   "outputs": [],
   "source": [
    "\n",
    "f_m = np.random.normal(loc=mu_Fm, scale=sigma_Fm, size=n_sim)\n",
    "p1 = np.random.normal(loc=mu_P1, scale=sigma_P1, size=n_sim)\n",
    "p2 = np.random.normal(loc=mu_P2, scale=sigma_P2, size=n_sim)"
   ]
  },
  {
   "cell_type": "markdown",
   "metadata": {},
   "source": [
    "## 2. Computation of the limit state function with this realisations"
   ]
  },
  {
   "cell_type": "code",
   "execution_count": 46,
   "metadata": {},
   "outputs": [],
   "source": [
    "g=W*f_m-p1*l-p2*2*l"
   ]
  },
  {
   "cell_type": "markdown",
   "metadata": {},
   "source": [
    "## 3. Count the number of failures, i.e. number of $g\\leq0$, and calculate $P_F$ and $\\beta$"
   ]
  },
  {
   "cell_type": "code",
   "execution_count": 47,
   "metadata": {},
   "outputs": [
    {
     "name": "stdout",
     "output_type": "stream",
     "text": [
      "Probability of failure = 6.10e-04\n",
      "\n",
      "beta = 3.23\n",
      "\n"
     ]
    }
   ],
   "source": [
    "# % Count the number of failures\n",
    "fails = np.zeros(n_sim);\n",
    "fails[np.nonzero(g<=0)[0]] = 1;\n",
    "Pf = np.sum(fails)/n_sim\n",
    "beta_mc = -sp.stats.norm.ppf(Pf)\n",
    "print(\"Probability of failure = {pf:.2e}\\n\".format(pf=float(Pf)))\n",
    "print(\"beta = {b:.2f}\\n\".format(b=float(beta_mc)))"
   ]
  },
  {
   "cell_type": "markdown",
   "metadata": {},
   "source": [
    "## Covergence\n",
    "The results of a Monte Carlo simulation are getting more accurate with increasing number of simulations $n$. Actually, the results become exact for $n \\rightarrow \\infty$! Let's look at the convergence behavior, i.e. how the MC estimates converge to the correct  with increasing $n$. "
   ]
  },
  {
   "cell_type": "code",
   "execution_count": 48,
   "metadata": {},
   "outputs": [
    {
     "data": {
      "image/png": "[encoded data removed]",
      "text/plain": [
       "<Figure size 432x288 with 1 Axes>"
      ]
     },
     "metadata": {
      "needs_background": "light"
     },
     "output_type": "display_data"
    },
    {
     "data": {
      "image/png": "[encoded data removed]",
      "text/plain": [
       "<Figure size 432x288 with 1 Axes>"
      ]
     },
     "metadata": {
      "needs_background": "light"
     },
     "output_type": "display_data"
    }
   ],
   "source": [
    "# Check convergence\n",
    "m = int(n_sim/500)\n",
    "t = 0\n",
    "plt_range = np.arange(m-1,n_sim,m)\n",
    "nn = np.zeros(len(plt_range))\n",
    "Pf_plt = np.zeros(len(plt_range))\n",
    "beta_plt = np.zeros(len(plt_range))\n",
    "cov = np.zeros(len(plt_range))\n",
    "for j in plt_range:\n",
    "   nn[t] = j;\n",
    "   Pf_plt[t] = np.mean(fails[0:j])\n",
    "   beta_plt[t] = -sp.stats.norm.ppf(Pf_plt[t])\n",
    "   cov[t] = 1 / Pf_plt[t] * np.sqrt((Pf_plt[t] - Pf_plt[t]**2)/j)\n",
    "   t = t+1\n",
    "\n",
    "plt.figure()\n",
    "plt.subplot(121)\n",
    "plt.plot(nn, beta_plt,'k')\n",
    "plt.plot(np.array([0,n_sim]),np.array([beta_plt[t-1],beta_plt[t-1]]),'--k')\n",
    "plt.ylabel(r'$\\beta$')\n",
    "plt.xlabel(r'$\\#$ simulations')\n",
    "plt.xlim(0,n_sim)\n",
    "plt.tight_layout()\n",
    "plt.show()\n",
    "plt.subplot(122)\n",
    "plt.plot(nn, cov,'k')\n",
    "plt.ylabel('Coeff. of variation')\n",
    "plt.xlabel(r'$\\#$ simulations')\n",
    "plt.xlim(0,n_sim)\n",
    "plt.tight_layout()\n",
    "plt.show()\n"
   ]
  },
  {
   "cell_type": "code",
   "execution_count": null,
   "metadata": {},
   "outputs": [],
   "source": []
  }
 ],
 "metadata": {
  "kernelspec": {
   "display_name": "Python 3",
   "language": "python",
   "name": "python3"
  },
  "language_info": {
   "codemirror_mode": {
    "name": "ipython",
    "version": 3
   },
   "file_extension": ".py",
   "mimetype": "text/x-python",
   "name": "python",
   "nbconvert_exporter": "python",
   "pygments_lexer": "ipython3",
   "version": "3.7.8"
  }
 },
 "nbformat": 4,
 "nbformat_minor": 4
}
