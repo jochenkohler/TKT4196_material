{
 "cells": [
  {
   "cell_type": "markdown",
   "metadata": {},
   "source": [
    "# TKT4196 - Aspects of Structural Safety\n",
    "## P00-Introduction to Python (version 210820)\n",
    "__Jorge Mendoza (2020), updated Jochen Köhler (2021)__"
   ]
  },
  {
   "cell_type": "markdown",
   "metadata": {},
   "source": [
    "This lecture aims to provide the student with a basic introduction to Python pogramming. Nevertheless, this is just a ''starter-pack'' and the student must develop confidence in the use of Python up to a certain degree of proficiency by practicing on her own. When the student faces issues, it should first resort to Python-dedicated forums. Most likely, somebody has had and shared the same questions and issues that you encounter. It is also recommended to skim through the handbook: *H. P. Langtangen (2016) A Primer on Scientific Programming with Python (Fifth Edition)*"
   ]
  },
  {
   "cell_type": "markdown",
   "metadata": {},
   "source": [
    "We will use Spyder to write and run code. Spyder is an integrated development environment (IDE) specifically developed for scientific programming."
   ]
  },
  {
   "cell_type": "markdown",
   "metadata": {},
   "source": [
    "### Console"
   ]
  },
  {
   "cell_type": "markdown",
   "metadata": {},
   "source": [
    "The spyder console is used to run commands. The __global variables__ in use are collected in the *variable explorer*. Global variables, as opposed to __local variables__ are accessible from the terminal as well as from scripts. This is an important feature to bear in mind and it will be further elaborated later on. "
   ]
  },
  {
   "cell_type": "markdown",
   "metadata": {},
   "source": [
    "#### Modules in Python\n",
    "Python gets access to a number of bult-in functions. We often need to use additional modules, which can be used with the command *import*. E.g:"
   ]
  },
  {
   "cell_type": "code",
   "execution_count": 2,
   "metadata": {},
   "outputs": [],
   "source": [
    "import numpy as np"
   ]
  },
  {
   "cell_type": "markdown",
   "metadata": {},
   "source": [
    "This makes all functions of numpy available under the name np. If you want to see which functions or methods are available within a module, this is stored in a variable called __all__. E.g., for the module we have just imported, you can type:"
   ]
  },
  {
   "cell_type": "code",
   "execution_count": 5,
   "metadata": {},
   "outputs": [],
   "source": [
    "# np.__all__"
   ]
  },
  {
   "cell_type": "markdown",
   "metadata": {},
   "source": [
    "To acess the documentation of a certain function, use the function help():"
   ]
  },
  {
   "cell_type": "code",
   "execution_count": 8,
   "metadata": {},
   "outputs": [],
   "source": [
    "# help(np.array)"
   ]
  },
  {
   "cell_type": "code",
   "execution_count": 9,
   "metadata": {},
   "outputs": [],
   "source": [
    "# print(np.array.__doc__)"
   ]
  },
  {
   "cell_type": "markdown",
   "metadata": {},
   "source": [
    "Most of the modules that we will be using can be seen in the file tktreq.txt"
   ]
  },
  {
   "cell_type": "markdown",
   "metadata": {},
   "source": [
    "#### Value assignment and data structures\n",
    "Assigning a value to a variable is done using the symbol =. Variables can be different types of data structures, e.g.: scalars, strings, lists, numerical arrays, tuples, dictionaries..."
   ]
  },
  {
   "cell_type": "markdown",
   "metadata": {},
   "source": [
    "* scalars:"
   ]
  },
  {
   "cell_type": "code",
   "execution_count": 10,
   "metadata": {},
   "outputs": [],
   "source": [
    "a = 1     # integer; same as a = int(1)\n",
    "b = 1.2   # float"
   ]
  },
  {
   "cell_type": "markdown",
   "metadata": {},
   "source": [
    "* strings:"
   ]
  },
  {
   "cell_type": "code",
   "execution_count": 20,
   "metadata": {},
   "outputs": [
    {
     "name": "stdout",
     "output_type": "stream",
     "text": [
      "Hello, world!\n"
     ]
    }
   ],
   "source": [
    "a_string = \"Hello, world!\" \n",
    "print(a_string)"
   ]
  },
  {
   "cell_type": "markdown",
   "metadata": {},
   "source": [
    "* lists: "
   ]
  },
  {
   "cell_type": "code",
   "execution_count": 12,
   "metadata": {},
   "outputs": [
    {
     "name": "stdout",
     "output_type": "stream",
     "text": [
      "[1, [1, 2], 'Hola']\n"
     ]
    }
   ],
   "source": [
    "a_list = []       # Empty list\n",
    "b_list = [1,2,4]  # List with three numerical items\n",
    "c_list = [1,[1,2],'Hola']\n",
    "print(c_list)"
   ]
  },
  {
   "cell_type": "markdown",
   "metadata": {},
   "source": [
    "* numerical arrays:"
   ]
  },
  {
   "cell_type": "code",
   "execution_count": 27,
   "metadata": {},
   "outputs": [
    {
     "name": "stdout",
     "output_type": "stream",
     "text": [
      "[1 2 3 4]\n",
      "[1. 2. 3. 4.]\n",
      "[1 2 3 4]\n"
     ]
    }
   ],
   "source": [
    "import numpy as np\n",
    "a_array1 = np.array([1,2,3,4])    # a vector (direct input of values)\n",
    "print(a_array1)\n",
    "\n",
    "a_array2 = np.linspace(1,4,4)     # a vector (using linspace function)\n",
    "print(a_array2)\n",
    "\n",
    "a_array3 = np.arange(1,5,1)       # a vector (using arange function)\n",
    "print(a_array3)"
   ]
  },
  {
   "cell_type": "code",
   "execution_count": 14,
   "metadata": {},
   "outputs": [
    {
     "name": "stdout",
     "output_type": "stream",
     "text": [
      "[[1 2 3]\n",
      " [2 3 1]]\n"
     ]
    }
   ],
   "source": [
    "b_array = np.array([[1,2,3],[2,3,1]])    # a matrix\n",
    "print(b_array)"
   ]
  },
  {
   "cell_type": "code",
   "execution_count": 10,
   "metadata": {},
   "outputs": [
    {
     "data": {
      "text/plain": [
       "(2, 3)"
      ]
     },
     "execution_count": 10,
     "metadata": {},
     "output_type": "execute_result"
    }
   ],
   "source": [
    "b_array.shape                  # dimension of matrix"
   ]
  },
  {
   "cell_type": "markdown",
   "metadata": {},
   "source": [
    "* tuples: (immutable sequences)"
   ]
  },
  {
   "cell_type": "code",
   "execution_count": 11,
   "metadata": {},
   "outputs": [],
   "source": [
    "a_tuple = (1, 2, 3)"
   ]
  },
  {
   "cell_type": "markdown",
   "metadata": {},
   "source": [
    "* dictionaries:"
   ]
  },
  {
   "cell_type": "code",
   "execution_count": 22,
   "metadata": {},
   "outputs": [
    {
     "name": "stdout",
     "output_type": "stream",
     "text": [
      "{'emne': 'TKT 4196', 'name': 'Aspects of structural safety'}\n",
      "TKT 4196\n"
     ]
    }
   ],
   "source": [
    "a_dict = {}\n",
    "a_dict['emne'] = 'TKT 4196'\n",
    "a_dict['name'] = \"Aspects of structural safety\"\n",
    "print(a_dict)\n",
    "print(a_dict['emne'])"
   ]
  },
  {
   "cell_type": "markdown",
   "metadata": {},
   "source": [
    "### Probability functions\n",
    "In this course we will use some built-in statistical distributions. They will be explained in more detail as we move forward with the course. Statistical functions can be imported from scipy.stats module. Here, an example of the most used one is shown, i.e. the Normal distribution: "
   ]
  },
  {
   "cell_type": "code",
   "execution_count": 23,
   "metadata": {},
   "outputs": [
    {
     "data": {
      "text/plain": [
       "0.00876415024678427"
      ]
     },
     "execution_count": 23,
     "metadata": {},
     "output_type": "execute_result"
    }
   ],
   "source": [
    "import scipy.stats as sps\n",
    "sps.norm.pdf(0,5,2)      # normal density function with mean 5 and standard deviation 2, evaluated at x=0."
   ]
  },
  {
   "cell_type": "code",
   "execution_count": 14,
   "metadata": {},
   "outputs": [
    {
     "data": {
      "text/plain": [
       "0.006209665325776132"
      ]
     },
     "execution_count": 14,
     "metadata": {},
     "output_type": "execute_result"
    }
   ],
   "source": [
    "sps.norm.cdf(0,5,2)            # normal cumulative distribution function with mean 5 and standard deviation 2, evaluated at x=0."
   ]
  },
  {
   "cell_type": "code",
   "execution_count": 15,
   "metadata": {},
   "outputs": [
    {
     "data": {
      "text/plain": [
       "2.4368968689107993"
      ]
     },
     "execution_count": 15,
     "metadata": {},
     "output_type": "execute_result"
    }
   ],
   "source": [
    "sps.norm.ppf(0.1,5,2)    # inverse normal distribution with mean 5 and standard deviation 2, evaluated at p=0.1"
   ]
  },
  {
   "cell_type": "code",
   "execution_count": 16,
   "metadata": {},
   "outputs": [
    {
     "data": {
      "text/plain": [
       "array([-0.2711595 , -0.44407798, -1.90913952,  0.50398924, -0.73262264,\n",
       "        0.94115865,  0.17125752, -0.2648018 , -0.20827972, -1.19530194])"
      ]
     },
     "execution_count": 16,
     "metadata": {},
     "output_type": "execute_result"
    }
   ],
   "source": [
    "np.random.normal(0,1,10) # 10 random samples from standard normal distribution"
   ]
  },
  {
   "cell_type": "markdown",
   "metadata": {},
   "source": [
    "Can you guess the output of sps.norm.ppf(sps.norm.cdf(4,5,2),5,2) produce without running it?"
   ]
  },
  {
   "cell_type": "markdown",
   "metadata": {},
   "source": [
    "Other distributions are present in Matlab: pdf('name',param) function can be used, although it is not optimized. It is recommended to use the specific functions."
   ]
  },
  {
   "cell_type": "markdown",
   "metadata": {},
   "source": [
    "### Plotting\n",
    "We use the module matplotlib to generate plots."
   ]
  },
  {
   "cell_type": "code",
   "execution_count": 31,
   "metadata": {},
   "outputs": [],
   "source": [
    "import matplotlib.pyplot as plt"
   ]
  },
  {
   "cell_type": "markdown",
   "metadata": {},
   "source": [
    "#### plt.plot function"
   ]
  },
  {
   "cell_type": "markdown",
   "metadata": {},
   "source": [
    "* __Example 1:__ plot sinus function from 0 to 2*pi radians"
   ]
  },
  {
   "cell_type": "code",
   "execution_count": 32,
   "metadata": {},
   "outputs": [
    {
     "data": {
      "image/png": "[encoded data removed]",
      "text/plain": [
       "<Figure size 432x288 with 2 Axes>"
      ]
     },
     "metadata": {
      "needs_background": "light"
     },
     "output_type": "display_data"
    }
   ],
   "source": [
    "fig,ax = plt.subplots(1,2)       # generate figure with 2 plots, organized in 1 row with 2 columns\n",
    "\n",
    "# Subplot 1: coarse discretization\n",
    "x1 = np.linspace(0,2*np.pi,5)    # vector that goes from 0 to 2pi in steps of pi/2 rads. Same as x1 = np.arange(0,2*np.pi+np.pi/2,np.pi/2) \n",
    "y1 = np.sin(x1)\n",
    "ax[0].plot(x1,y1,'k')            # 'k' = color black\n",
    "ax[0].set_xlabel('$x$')\n",
    "ax[0].set_ylabel('$y$');\n",
    "ax[0].set_xlim(0,2*np.pi)\n",
    "ax[0].set_ylim(-1,1)\n",
    "\n",
    "# Subplot 2: fine discretization\n",
    "x2 = np.linspace(0,2*np.pi,101)  # vector that goes from 0 to 2pi in steps of pi/50 rads\n",
    "y2 = np.sin(x2)\n",
    "ax[1].plot(x2,y2,'k')\n",
    "ax[1].set_xlabel('$x$')\n",
    "ax[1].set_ylabel('$y$');\n",
    "ax[1].set_xlim(0,2*np.pi)\n",
    "ax[1].set_ylim(-1,1)\n",
    "plt.tight_layout()               # fit size of subplots to window"
   ]
  },
  {
   "cell_type": "markdown",
   "metadata": {},
   "source": [
    "* __Example 2:__ Histogram of the standard normal distribution"
   ]
  },
  {
   "cell_type": "code",
   "execution_count": 35,
   "metadata": {},
   "outputs": [
    {
     "data": {
      "text/plain": [
       "(-5.0, 5.0)"
      ]
     },
     "execution_count": 35,
     "metadata": {},
     "output_type": "execute_result"
    },
    {
     "data": {
      "image/png": "[encoded data removed]",
      "text/plain": [
       "<Figure size 432x288 with 1 Axes>"
      ]
     },
     "metadata": {
      "needs_background": "light"
     },
     "output_type": "display_data"
    }
   ],
   "source": [
    "fig2,ax2 = plt.subplots(1,1)\n",
    "pmf = np.random.randn(int(1e6))      # generate 1e4 normal distributed random numbers\n",
    "kwargs = dict(bins=20, density=True, color='blue',edgecolor='black', stacked=True)\n",
    "ax2.hist(pmf,**kwargs)\n",
    "ax2.set_xlabel('$x$')\n",
    "ax2.set_ylabel('PDF');\n",
    "ax2.set_xlim(-5,5)"
   ]
  },
  {
   "cell_type": "markdown",
   "metadata": {},
   "source": [
    "Now try to plot the *continuous* probability density function as introduced above and plot it over the bar plot"
   ]
  },
  {
   "cell_type": "code",
   "execution_count": 41,
   "metadata": {},
   "outputs": [
    {
     "ename": "SyntaxError",
     "evalue": "invalid syntax (<ipython-input-41-06ee2e114c0f>, line 3)",
     "output_type": "error",
     "traceback": [
      "\u001b[0;36m  File \u001b[0;32m\"<ipython-input-41-06ee2e114c0f>\"\u001b[0;36m, line \u001b[0;32m3\u001b[0m\n\u001b[0;31m    x2 =\u001b[0m\n\u001b[0m         ^\u001b[0m\n\u001b[0;31mSyntaxError\u001b[0m\u001b[0;31m:\u001b[0m invalid syntax\n"
     ]
    }
   ],
   "source": [
    "from IPython import display\n",
    "# Input x2,y2 to display the standard normal probability density function \n",
    "# x2 = \n",
    "# y2 = \n",
    "# ax2.plot(x2,y2,'r',LineWidth=3)\n",
    "display.display(fig2)"
   ]
  },
  {
   "cell_type": "markdown",
   "metadata": {},
   "source": [
    "#### 3D-plots (plt.contour and plt.surface)"
   ]
  },
  {
   "cell_type": "markdown",
   "metadata": {},
   "source": [
    "* __Surface:__ Plotting the bivariate standard normal distribution"
   ]
  },
  {
   "cell_type": "code",
   "execution_count": 43,
   "metadata": {},
   "outputs": [
    {
     "data": {
      "image/png": "[encoded data removed]",
      "text/plain": [
       "<Figure size 432x288 with 2 Axes>"
      ]
     },
     "metadata": {
      "needs_background": "light"
     },
     "output_type": "display_data"
    }
   ],
   "source": [
    "from matplotlib import cm\n",
    "X = np.linspace(-5,5,100)\n",
    "X1, X2 = np.meshgrid(X,X)\n",
    "pos = np.dstack((X1, X2))   # pairs of [X1,X2]\n",
    "MU = [0, 0]                 # Mean vector\n",
    "C = [[1, 0], [0, 1]]        # Covariance matrix\n",
    "fxx = sps.multivariate_normal(MU, C)\n",
    "fig = plt.figure()\n",
    "ax1 = fig.add_subplot(111, projection='3d')\n",
    "surf = ax1.plot_surface(X1, X2, fxx.pdf(pos),cmap=cm.coolwarm)\n",
    "# Enhance the plot\n",
    "fig.colorbar(surf, shrink=0.5, aspect=10);\n",
    "ax1.set_xlabel('$X_1$')\n",
    "ax1.set_ylabel('$X_2$')\n",
    "ax1.set_zlabel('PDF')\n",
    "plt.tight_layout()"
   ]
  },
  {
   "cell_type": "markdown",
   "metadata": {},
   "source": [
    "* __Contour__: Same using contour plots"
   ]
  },
  {
   "cell_type": "code",
   "execution_count": 44,
   "metadata": {},
   "outputs": [
    {
     "data": {
      "image/png": "[encoded data removed]",
      "text/plain": [
       "<Figure size 432x288 with 1 Axes>"
      ]
     },
     "metadata": {
      "needs_background": "light"
     },
     "output_type": "display_data"
    }
   ],
   "source": [
    "fig, ax1 = plt.subplots(1, 1)\n",
    "ax1.contour(X1, X2, fxx.pdf(pos))   # another option is contourf to add colour\n",
    "# Enhance the plot\n",
    "ax1.set_xlim(-3,3)\n",
    "ax1.set_ylim(-3,3)\n",
    "ax1.set_xlabel('$X_1$')\n",
    "ax1.set_ylabel('$X_2$')\n",
    "ax1.set_aspect('equal')\n",
    "ax1.set_title('Bivariate standard normal distribution')\n",
    "plt.tight_layout()"
   ]
  },
  {
   "cell_type": "markdown",
   "metadata": {},
   "source": [
    "### Conditionals (if statements) and loops"
   ]
  },
  {
   "cell_type": "markdown",
   "metadata": {},
   "source": [
    "#### for loops"
   ]
  },
  {
   "cell_type": "markdown",
   "metadata": {},
   "source": [
    "for loops are used to compute repetitive task. For example, "
   ]
  },
  {
   "cell_type": "code",
   "execution_count": 51,
   "metadata": {},
   "outputs": [
    {
     "name": "stdout",
     "output_type": "stream",
     "text": [
      "5! = 120\n",
      "\n"
     ]
    }
   ],
   "source": [
    "number = 5\n",
    "factorial = 1\n",
    "for i in range(1,number+1):\n",
    "    factorial*=i\n",
    "print(\"{n:g}! = {f:g}\\n\".format(n=number,f=factorial))"
   ]
  },
  {
   "cell_type": "markdown",
   "metadata": {},
   "source": [
    "#### while loops"
   ]
  },
  {
   "cell_type": "markdown",
   "metadata": {},
   "source": [
    "while loops are to some extent similar to for loops and many tasks can be done using either of them. While loops are different in the sense that the repetitive task will be performed until a condition is reached."
   ]
  },
  {
   "cell_type": "code",
   "execution_count": 53,
   "metadata": {},
   "outputs": [
    {
     "name": "stdout",
     "output_type": "stream",
     "text": [
      "5! = 120\n",
      "\n"
     ]
    }
   ],
   "source": [
    "number = 5\n",
    "factorial = 1\n",
    "i=1\n",
    "while i < number+1:\n",
    "    factorial*=i\n",
    "    i+=1\n",
    "print(\"{n:g}! = {f:g}\\n\".format(n=number,f=factorial))"
   ]
  },
  {
   "cell_type": "markdown",
   "metadata": {},
   "source": [
    "Lets try to compute the probability of a die drawing a 6 from a frequentistic approach. We use a combination of a __for__ loop with a conditional statement (__if__):"
   ]
  },
  {
   "cell_type": "code",
   "execution_count": 63,
   "metadata": {},
   "outputs": [
    {
     "name": "stdout",
     "output_type": "stream",
     "text": [
      "a = 23.00% the die rolled a 6\n",
      "\n",
      "The error associated with 100 simulations is 38.00%\n",
      "\n"
     ]
    }
   ],
   "source": [
    "import random\n",
    "exact_sol = 1/6\n",
    "count = 0\n",
    "NoS = 100\n",
    "for i in range(0,NoS):\n",
    "    dice_roll = random.randint(1,6)\n",
    "    if dice_roll == 6:\n",
    "        count += 1;\n",
    "sol = count/NoS\n",
    "error = abs(sol-exact_sol)/(exact_sol)\n",
    "print(\"a = {a:.2f}% the die rolled a 6\\n\".format(a=sol*100))\n",
    "print(\"The error associated with {n:g} simulations is {e:.2f}%\\n\".format(n=NoS,e=error*100))"
   ]
  },
  {
   "cell_type": "markdown",
   "metadata": {},
   "source": [
    "Estimate, using a while loop, how many simulations are needed to achieve ca. 0.1% accuracy"
   ]
  },
  {
   "cell_type": "code",
   "execution_count": 64,
   "metadata": {},
   "outputs": [
    {
     "name": "stdout",
     "output_type": "stream",
     "text": [
      "The error associated with 1.000000e+02 simulations is 32.00%\n",
      "The error associated with 1.000000e+03 simulations is 5.20%\n",
      "The error associated with 1.000000e+04 simulations is 4.34%\n",
      "The error associated with 1.000000e+05 simulations is 1.37%\n",
      "The error associated with 1.000000e+06 simulations is 0.29%\n",
      "The error associated with 1.000000e+07 simulations is 0.08%\n",
      "1e+07 simulations are needed to achieve the desired accuracy\n",
      "\n"
     ]
    }
   ],
   "source": [
    "NoS = 100\n",
    "tol = 0.1/100\n",
    "error = tol+1\n",
    "while error>tol:\n",
    "    count = 0\n",
    "    for i in range(0,NoS):\n",
    "        dice_roll = random.randint(1,6)\n",
    "        if dice_roll == 6:\n",
    "            count += 1;\n",
    "    sol = count/NoS\n",
    "    error = abs(sol-1/6)/(1/6)\n",
    "    print(\"The error associated with {n:e} simulations is {e:.2f}%\\r\".format(n=NoS,e=error*100))\n",
    "    NoS*=10\n",
    "print(\"{n:g} simulations are needed to achieve the desired accuracy\\n\".format(n=NoS/10))"
   ]
  },
  {
   "cell_type": "markdown",
   "metadata": {},
   "source": [
    "### Functions"
   ]
  },
  {
   "cell_type": "markdown",
   "metadata": {},
   "source": [
    "We have been using so far several built-in functions. They are used to automatize a process, which can be called when needed.  "
   ]
  },
  {
   "cell_type": "markdown",
   "metadata": {},
   "source": [
    "An important characteristic of functions is that they use local variables. This means that it does not have access to the *Variable explorer* in the main session. To use variables of the main session we need to input them into function."
   ]
  },
  {
   "cell_type": "markdown",
   "metadata": {},
   "source": [
    "#### Creating our own functions"
   ]
  },
  {
   "cell_type": "markdown",
   "metadata": {},
   "source": [
    "Let's exemplify how to create a function by creating one that performs the above task of generating n rolls of a dice"
   ]
  },
  {
   "cell_type": "code",
   "execution_count": 65,
   "metadata": {},
   "outputs": [],
   "source": [
    "def dicerolls(n):\n",
    "    \"\"\" This function inputs an integer number n and generate n dice rolls\"\"\"\n",
    "    n = int(n)   # we make sure that the number is an integer\n",
    "    dice_rolls = []\n",
    "    for i in range(0,n):\n",
    "        dice_rolls.append(random.randint(1,6))\n",
    "    return dice_rolls"
   ]
  },
  {
   "cell_type": "markdown",
   "metadata": {},
   "source": [
    "Note that the text at the beginning is what will be output when we call help() on the function"
   ]
  },
  {
   "cell_type": "code",
   "execution_count": 66,
   "metadata": {},
   "outputs": [
    {
     "name": "stdout",
     "output_type": "stream",
     "text": [
      "Help on function dicerolls in module __main__:\n",
      "\n",
      "dicerolls(n)\n",
      "    This function inputs an integer number n and generate n dice rolls\n",
      "\n"
     ]
    }
   ],
   "source": [
    "help(dicerolls)"
   ]
  },
  {
   "cell_type": "code",
   "execution_count": 67,
   "metadata": {},
   "outputs": [
    {
     "name": "stdout",
     "output_type": "stream",
     "text": [
      "[6, 3, 5, 5, 5, 4, 3, 3, 1, 2]\n"
     ]
    }
   ],
   "source": [
    "print(dicerolls(10))"
   ]
  },
  {
   "cell_type": "markdown",
   "metadata": {},
   "source": [
    "Let's use this function to create another one that uses M different dice"
   ]
  },
  {
   "cell_type": "code",
   "execution_count": 69,
   "metadata": {},
   "outputs": [],
   "source": [
    "def Mdice(M,n):\n",
    "    \"\"\" This function rolls M dice n times. It outputs an np.array shape MxN\"\"\"\n",
    "    M = int(M)\n",
    "    n = int(n)\n",
    "    dices_rolls = np.zeros((M,n))\n",
    "    for j in range(0,M):\n",
    "            dices_rolls[j] = dicerolls(n)\n",
    "    return dices_rolls"
   ]
  },
  {
   "cell_type": "code",
   "execution_count": 70,
   "metadata": {},
   "outputs": [
    {
     "data": {
      "text/plain": [
       "array([[2., 2., 5., 5., 3., 5., 2., 5., 3., 1.],\n",
       "       [2., 2., 2., 4., 5., 6., 2., 2., 2., 6.]])"
      ]
     },
     "execution_count": 70,
     "metadata": {},
     "output_type": "execute_result"
    }
   ],
   "source": [
    "Mdice(2,10)"
   ]
  },
  {
   "cell_type": "markdown",
   "metadata": {},
   "source": [
    "Use this function to calculate what is the probability of getting two sixs by using 2 dices"
   ]
  },
  {
   "cell_type": "code",
   "execution_count": 72,
   "metadata": {},
   "outputs": [
    {
     "name": "stdout",
     "output_type": "stream",
     "text": [
      "The error associated with 1.000000e+04 simulations is 1.36%\r\n"
     ]
    }
   ],
   "source": [
    "NoS = 1e4\n",
    "rolls = Mdice(2,NoS)\n",
    "boolean = np.all(rolls ==6,axis=0)\n",
    "res = sum(boolean)/NoS\n",
    "exact = 1/36\n",
    "error = abs(res-exact)/exact\n",
    "print(\"The error associated with {n:e} simulations is {e:.2f}%\\r\".format(n=NoS,e=error*100))"
   ]
  },
  {
   "cell_type": "markdown",
   "metadata": {},
   "source": [
    "#### Lambda functions"
   ]
  },
  {
   "cell_type": "markdown",
   "metadata": {},
   "source": [
    "When functions are simple input output relations, they can sometimes be simply defined in one line using functions handles:"
   ]
  },
  {
   "cell_type": "code",
   "execution_count": 73,
   "metadata": {},
   "outputs": [
    {
     "name": "stdout",
     "output_type": "stream",
     "text": [
      "13\n"
     ]
    }
   ],
   "source": [
    "f = lambda x: (x+1)**2 + 2*x   # a value f is given using the provided formula by inputting x \n",
    "print(f(2))"
   ]
  },
  {
   "cell_type": "code",
   "execution_count": 76,
   "metadata": {},
   "outputs": [
    {
     "data": {
      "text/plain": [
       "Text(0, 0.5, '$f(x)$')"
      ]
     },
     "execution_count": 76,
     "metadata": {},
     "output_type": "execute_result"
    },
    {
     "data": {
      "image/png": "[encoded data removed]",
      "text/plain": [
       "<Figure size 432x288 with 1 Axes>"
      ]
     },
     "metadata": {
      "needs_background": "light"
     },
     "output_type": "display_data"
    }
   ],
   "source": [
    "fig3,ax3=plt.subplots()\n",
    "xarray = np.linspace(x_min-0.5,x_min+0.5)\n",
    "ax3.plot(xarray,f(xarray))\n",
    "ax3.set_xlabel('$x$')\n",
    "ax3.set_ylabel('$f(x)$')"
   ]
  },
  {
   "cell_type": "markdown",
   "metadata": {},
   "source": [
    "#### Some useful built-in functions"
   ]
  },
  {
   "cell_type": "markdown",
   "metadata": {},
   "source": [
    "A type of function that we will often use are solvers. Let's try to find the zero of the function f(x)=(x+1)**2 + 2*x"
   ]
  },
  {
   "cell_type": "code",
   "execution_count": 77,
   "metadata": {},
   "outputs": [
    {
     "name": "stdout",
     "output_type": "stream",
     "text": [
      "f(-0.268) = 0\r\n"
     ]
    }
   ],
   "source": [
    "import scipy as sp\n",
    "x0 = 1.  # Initial guess (sometimes very important but always required)\n",
    "f_zero = sp.optimize.fsolve(f,x0)[0]\n",
    "print(\"f({x:.3f}) = 0\\r\".format(x=f_zero))"
   ]
  },
  {
   "cell_type": "markdown",
   "metadata": {},
   "source": [
    "and its minimum"
   ]
  },
  {
   "cell_type": "code",
   "execution_count": 78,
   "metadata": {},
   "outputs": [
    {
     "name": "stdout",
     "output_type": "stream",
     "text": [
      "Optimization terminated successfully.\n",
      "         Current function value: -3.000000\n",
      "         Iterations: 34\n",
      "         Function evaluations: 69\n",
      "minima is f(-2.000) = -3.000\r\n"
     ]
    }
   ],
   "source": [
    "solmin = sp.optimize.minimize(f,x0,method='nelder-mead',options={'xatol': 1e-8, 'disp': True})\n",
    "f_min = float(solmin.fun)\n",
    "x_min = float(solmin.x)\n",
    "print(\"minima is f({x:.3f}) = {fm:.3f}\\r\".format(x=x_min,fm=f_min))"
   ]
  },
  {
   "cell_type": "code",
   "execution_count": 82,
   "metadata": {},
   "outputs": [
    {
     "data": {
      "image/png": "[encoded data removed]",
      "text/plain": [
       "<Figure size 432x288 with 1 Axes>"
      ]
     },
     "metadata": {},
     "output_type": "display_data"
    }
   ],
   "source": [
    "# Input here a line of code that plots the minimum of the function f that we have just computed\n",
    "\n",
    "display.display(fig3)"
   ]
  },
  {
   "cell_type": "markdown",
   "metadata": {},
   "source": [
    "Integrate the previous function from -10 to 10"
   ]
  },
  {
   "cell_type": "code",
   "execution_count": 87,
   "metadata": {},
   "outputs": [
    {
     "name": "stdout",
     "output_type": "stream",
     "text": [
      "Integral of f from -10 to 10 is 686.67\n"
     ]
    }
   ],
   "source": [
    "f_int,int_err = sp.integrate.quad(f,-10,10)\n",
    "print(\"Integral of f from -10 to 10 is {:.2f}\".format(f_int))"
   ]
  },
  {
   "cell_type": "markdown",
   "metadata": {},
   "source": [
    "Integrate the bivariate normal distribution:"
   ]
  },
  {
   "cell_type": "code",
   "execution_count": 88,
   "metadata": {},
   "outputs": [],
   "source": [
    "fx = lambda x,y: fxx.pdf([x,y])\n",
    "fx_int = sp.integrate.nquad(fx,[[-5,5],[-5,5]])[0]"
   ]
  }
 ],
 "metadata": {
  "kernelspec": {
   "display_name": "Python 3",
   "language": "python",
   "name": "python3"
  },
  "language_info": {
   "codemirror_mode": {
    "name": "ipython",
    "version": 3
   },
   "file_extension": ".py",
   "mimetype": "text/x-python",
   "name": "python",
   "nbconvert_exporter": "python",
   "pygments_lexer": "ipython3",
   "version": "3.9.0"
  }
 },
 "nbformat": 4,
 "nbformat_minor": 4
}
